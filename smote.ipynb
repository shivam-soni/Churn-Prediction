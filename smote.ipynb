{
 "cells": [
  {
   "cell_type": "code",
   "execution_count": 49,
   "metadata": {},
   "outputs": [
    {
     "name": "stdout",
     "output_type": "stream",
     "text": [
      "(5625, 41)\n"
     ]
    },
    {
     "name": "stderr",
     "output_type": "stream",
     "text": [
      "C:\\anaconda3\\lib\\site-packages\\sklearn\\preprocessing\\data.py:617: DataConversionWarning: Data with input dtype int64, float64, object were all converted to float64 by StandardScaler.\n",
      "  return self.partial_fit(X, y)\n",
      "C:\\anaconda3\\lib\\site-packages\\ipykernel_launcher.py:78: DataConversionWarning: Data with input dtype int64, float64, object were all converted to float64 by StandardScaler.\n",
      "C:\\anaconda3\\lib\\site-packages\\ipykernel_launcher.py:84: DataConversionWarning: Data with input dtype int64, float64, object were all converted to float64 by StandardScaler.\n",
      "C:\\anaconda3\\lib\\site-packages\\sklearn\\preprocessing\\data.py:617: DataConversionWarning: Data with input dtype int64, float64, object were all converted to float64 by StandardScaler.\n",
      "  return self.partial_fit(X, y)\n",
      "C:\\anaconda3\\lib\\site-packages\\ipykernel_launcher.py:90: DataConversionWarning: Data with input dtype int64, float64, object were all converted to float64 by StandardScaler.\n"
     ]
    }
   ],
   "source": [
    "import numpy as np\n",
    "import matplotlib.pyplot as pt\n",
    "import pandas as pd\n",
    "import statsmodels.stats.outliers_influence as oi\n",
    "from sklearn.metrics import roc_curve\n",
    "from sklearn.metrics import roc_auc_score\n",
    "\n",
    "df=pd.read_csv('Churn.csv')\n",
    "\n",
    "\"\"\"----------------------------DATA PREPARATION--------------------------\"\"\"\n",
    "\n",
    "for i in df.columns:\n",
    "    df[i]=df[i].replace(\" \",np.NaN)\n",
    "    \n",
    "#print (df.isnull().sum())\n",
    "\n",
    "    \n",
    "df.dropna(inplace=True)\n",
    "df = df.reset_index()[df.columns]\n",
    "#print (df.isnull().sum())\n",
    "'''def tenure_lab(t) :\n",
    "    \n",
    "    if t <= 12 :\n",
    "        return 1\n",
    "    elif (t > 12) & (t <= 24 ):\n",
    "        return 2\n",
    "    elif (t > 24) & (t <= 48) :\n",
    "        return 3\n",
    "    elif (t > 48) & (t <= 60) :\n",
    "        return 4\n",
    "    elif t > 60 :\n",
    "        return 5\n",
    "\n",
    "df[\"tenure\"]=df[\"tenure\"].map(tenure_lab)'''\n",
    "\n",
    "\n",
    "#since we have 72 categories in tenure we will reduce the number of categories in it\n",
    "#therefoe we made above function and to check how many categories each column has now,we are using the following loop\n",
    "\n",
    "for c_n in df.columns:\n",
    "    #print c_n\n",
    "   # if X[c_n]=='object' :\n",
    "    unique_cat=df[c_n].nunique()\n",
    "    #print (\"Feature\", c_n,\"has\", unique_cat,\"unique categories\")\n",
    "\n",
    "\n",
    "X=df.drop('Churn',1)\n",
    "Y=df.Churn\n",
    "\n",
    "X=X.drop('customerID',1)\n",
    "\n",
    "todummy_list  =X.nunique()[X.nunique() < 6].keys().tolist()\n",
    "\n",
    "num_cols   = [x for x in X.columns if x not in todummy_list]\n",
    "'''todummy_list.remove('tenure')\n",
    "num_cols.insert(3,'tenure')'''\n",
    "X_org=X.copy()\n",
    "\n",
    "for i in todummy_list:\n",
    "    dummies= pd.get_dummies(X[i],prefix=i)\n",
    "    #print dummies\n",
    "    #dummies=dummies.iloc[:,1:]\n",
    "    X=X.drop(i,1)\n",
    "    X=pd.concat([dummies,X],axis=1)\n",
    "X=X.drop(['StreamingTV_No internet service','StreamingMovies_No internet service','TechSupport_No internet service','DeviceProtection_No internet service','OnlineBackup_No internet service'],axis=1)\n",
    "    \n",
    "from sklearn.preprocessing import LabelEncoder\n",
    "from sklearn.model_selection import train_test_split\n",
    "le = LabelEncoder()\n",
    "Y= le.fit_transform(Y)\n",
    "x_train, x_test, y_train, y_test = train_test_split(X, Y, test_size=0.20, random_state=0)\n",
    "\n",
    "\n",
    "from sklearn.preprocessing import StandardScaler\n",
    "# Fitting parameters for scaling x_train for the numerical columns \n",
    "std = StandardScaler().fit(x_train[num_cols])\n",
    "#Transforming the the original data\n",
    "x_train_transformed=std.transform(x_train[num_cols])\n",
    "x_train_transformed_df = pd.DataFrame(x_train_transformed,columns=num_cols)\n",
    "x_train=x_train.drop(num_cols,1)\n",
    "x_train=pd.concat([x_train.reset_index(drop=True),x_train_transformed_df.reset_index(drop=True) ],axis=1)\n",
    "\n",
    "#Transforming the the test data's numerical with x_train scaled parameters\n",
    "x_test_transformed=std.transform(x_test[num_cols])\n",
    "x_test_transformed_df = pd.DataFrame(x_test_transformed,columns=num_cols)\n",
    "x_test=x_test.drop(num_cols,1)\n",
    "x_test=pd.concat([x_test.reset_index(drop=True),x_test_transformed_df .reset_index(drop=True) ],axis=1)\n",
    "\n",
    "std = StandardScaler().fit(X[num_cols])\n",
    "x_transformed=std.transform(X[num_cols])\n",
    "\n",
    "x_transformed_df=pd.DataFrame(x_transformed,columns=num_cols)\n",
    "x_kf=X.drop(num_cols,1)\n",
    "x_kf=pd.concat([x_kf.reset_index(drop=True),x_transformed_df.reset_index(drop=True) ],axis=1)\n",
    "print(x_train.shape)"
   ]
  },
  {
   "cell_type": "code",
   "execution_count": 50,
   "metadata": {},
   "outputs": [],
   "source": [
    "def roc_plot(clf_obj,x_test,y_test,predictions):\n",
    "    \n",
    "    # all parameters not specified are set to their defaults\n",
    "    \n",
    "   \n",
    "        \n",
    "        \n",
    "        \n",
    "    \n",
    " \n",
    "    fpr, tpr, thresholds = roc_curve(y_test, predictions)\n",
    "    \n",
    "    print(\"tpr=\",tpr,\" and 1-fpr=\", 1-fpr)\n",
    "\n",
    "    #plot no skill\n",
    "    from matplotlib import pyplot\n",
    "    pyplot.plot([0, 1], [0, 1], linestyle='--')\n",
    "    # plot the roc curve for the model\n",
    "    pyplot.plot(fpr, tpr, marker='.')\n",
    "    # show the plot\n",
    "    pyplot.show()\n",
    "\n",
    "    auc = roc_auc_score(y_test, predictions)\n",
    "    print('AUC: %.3f' % auc)\n",
    "    '''probs = m.predict_proba(x_test)\n",
    "    probs = probs[:, 1]\n",
    "\n",
    "\n",
    "    fpr1, tpr1, thresholds1 = roc_curve(y_test, probs)\n",
    "\n",
    "    #plot no skill\n",
    "    pyplot.plot([0, 1], [0, 1], linestyle='--')\n",
    "    # plot the roc curve for the model\n",
    "    pyplot.plot(fpr1, tpr1, marker='.')\n",
    "    # show the plot\n",
    "    pyplot.show()\n",
    "\n",
    "    auc = roc_auc_score(y_test, probs)\n",
    "    print('AUC: %.3f' % auc)'''\n",
    "\n",
    "\n",
    "    import matplotlib.pyplot as plt\n",
    "    import seaborn as sns\n",
    "\n",
    "    score = clf_obj.score(x_test, y_test)\n",
    "    plt.figure(figsize=(9,9))\n",
    "    sns.heatmap(cm, annot=True, fmt=\".3f\", linewidths=.5, square = True, cmap = 'Blues_r');\n",
    "    plt.ylabel('Actual label');\n",
    "    plt.xlabel('Predicted label');\n",
    "    all_sample_title =' Accuracy Score: {0}'.format(score)\n",
    "    plt.title(all_sample_title, size = 15);\n"
   ]
  },
  {
   "cell_type": "code",
   "execution_count": 51,
   "metadata": {},
   "outputs": [],
   "source": [
    "from imblearn.over_sampling import SMOTE\n",
    "os = SMOTE(random_state = 0)"
   ]
  },
  {
   "cell_type": "code",
   "execution_count": 52,
   "metadata": {},
   "outputs": [
    {
     "data": {
      "text/plain": [
       "SMOTE(k_neighbors=5, kind='deprecated', m_neighbors='deprecated', n_jobs=1,\n",
       "   out_step='deprecated', random_state=0, ratio=None,\n",
       "   sampling_strategy='auto', svm_estimator='deprecated')"
      ]
     },
     "execution_count": 52,
     "metadata": {},
     "output_type": "execute_result"
    }
   ],
   "source": [
    "os"
   ]
  },
  {
   "cell_type": "code",
   "execution_count": 53,
   "metadata": {},
   "outputs": [],
   "source": [
    "os_smote_X,os_smote_Y = os.fit_sample(x_train,y_train)"
   ]
  },
  {
   "cell_type": "code",
   "execution_count": 54,
   "metadata": {},
   "outputs": [],
   "source": [
    "cols=[i for i in x_train.columns]\n",
    "os_smote_X=pd.DataFrame(data=os_smote_X,columns=cols)\n",
    "os_smote_Y = pd.DataFrame(data = os_smote_Y,columns=['Churn'])\n",
    "print(os_smote_X.shape)\n",
    "print(os_smote_Y.shape)\n",
    "print(8250-5625)"
   ]
  },
  {
   "cell_type": "code",
   "execution_count": 55,
   "metadata": {},
   "outputs": [
    {
     "name": "stdout",
     "output_type": "stream",
     "text": [
      "(8250, 41)\n",
      "(8250, 1)\n",
      "2625\n"
     ]
    }
   ],
   "source": []
  },
  {
   "cell_type": "code",
   "execution_count": 56,
   "metadata": {},
   "outputs": [
    {
     "name": "stdout",
     "output_type": "stream",
     "text": [
      "0    4125\n",
      "1    1500\n",
      "Name: Churn, dtype: int64\n",
      "1    4125\n",
      "0    4125\n",
      "Name: Churn, dtype: int64\n"
     ]
    }
   ],
   "source": [
    "\n",
    "y_train=pd.DataFrame(data=y_train,columns=['Churn'])\n",
    "print(y_train['Churn'].value_counts())\n",
    "print(os_smote_Y['Churn'].value_counts())"
   ]
  },
  {
   "cell_type": "code",
   "execution_count": 57,
   "metadata": {},
   "outputs": [
    {
     "name": "stdout",
     "output_type": "stream",
     "text": [
      "\t\t-------------------LOGISTIC REGRESSION_WO_Feature_selection----------------\n",
      "\n",
      "\n",
      "\n",
      "              precision    recall  f1-score   support\n",
      "\n",
      "           0       0.91      0.73      0.81      1038\n",
      "           1       0.52      0.81      0.63       369\n",
      "\n",
      "   micro avg       0.75      0.75      0.75      1407\n",
      "   macro avg       0.72      0.77      0.72      1407\n",
      "weighted avg       0.81      0.75      0.77      1407\n",
      "\n",
      "[[760 278]\n",
      " [ 71 298]]\n",
      "tpr= [0.         0.80758808 1.        ]  and 1-fpr= [1.         0.73217726 0.        ]\n"
     ]
    },
    {
     "name": "stderr",
     "output_type": "stream",
     "text": [
      "C:\\anaconda3\\lib\\site-packages\\sklearn\\linear_model\\logistic.py:432: FutureWarning: Default solver will be changed to 'lbfgs' in 0.22. Specify a solver to silence this warning.\n",
      "  FutureWarning)\n",
      "C:\\anaconda3\\lib\\site-packages\\sklearn\\utils\\validation.py:752: DataConversionWarning: A column-vector y was passed when a 1d array was expected. Please change the shape of y to (n_samples, ), for example using ravel().\n",
      "  y = column_or_1d(y, warn=True)\n"
     ]
    },
    {
     "data": {
      "image/png": "[encoded data removed]",
      "text/plain": [
       "<Figure size 432x288 with 1 Axes>"
      ]
     },
     "metadata": {},
     "output_type": "display_data"
    },
    {
     "name": "stdout",
     "output_type": "stream",
     "text": [
      "AUC: 0.770\n"
     ]
    },
    {
     "data": {
      "image/png": "[encoded data removed]",
      "text/plain": [
       "<Figure size 648x648 with 2 Axes>"
      ]
     },
     "metadata": {},
     "output_type": "display_data"
    }
   ],
   "source": [
    "\"\"\"--------------------------(MODELING PHASE)--{LOGISTIC REGRESSION_WO_Feature_selection}---------------------------------\"\"\"\n",
    "\n",
    "print ('\\t\\t-------------------LOGISTIC REGRESSION_WO_Feature_selection----------------\\n\\n\\n')\n",
    "from sklearn.linear_model import LogisticRegression\n",
    "\n",
    "# all parameters not specified are set to their defaults\n",
    "logisticRegr = LogisticRegression()\n",
    "\n",
    "\n",
    "m=logisticRegr.fit(os_smote_X, os_smote_Y)\n",
    "\n",
    "predictions = m.predict(x_test)\n",
    "from sklearn import metrics\n",
    "mett=metrics.classification_report(y_test,predictions)\n",
    "print (mett)\n",
    "\n",
    "cm = metrics.confusion_matrix(y_test, predictions)\n",
    "print(cm)\n",
    "\n",
    "roc_plot(m,x_test,y_test,predictions)"
   ]
  },
  {
   "cell_type": "code",
   "execution_count": 61,
   "metadata": {},
   "outputs": [
    {
     "name": "stdout",
     "output_type": "stream",
     "text": [
      "<--------------------------------------XG-BOOST------------------------------------->\n"
     ]
    },
    {
     "name": "stderr",
     "output_type": "stream",
     "text": [
      "C:\\anaconda3\\lib\\site-packages\\sklearn\\utils\\validation.py:752: DataConversionWarning: A column-vector y was passed when a 1d array was expected. Please change the shape of y to (n_samples, ), for example using ravel().\n",
      "  y = column_or_1d(y, warn=True)\n"
     ]
    },
    {
     "name": "stdout",
     "output_type": "stream",
     "text": [
      "              precision    recall  f1-score   support\n",
      "\n",
      "           0       0.88      0.82      0.85      1038\n",
      "           1       0.57      0.69      0.63       369\n",
      "\n",
      "   micro avg       0.78      0.78      0.78      1407\n",
      "   macro avg       0.73      0.76      0.74      1407\n",
      "weighted avg       0.80      0.78      0.79      1407\n",
      "\n",
      "[[848 190]\n",
      " [113 256]]\n",
      "tpr= [0.         0.69376694 1.        ]  and 1-fpr= [1.         0.81695568 0.        ]\n"
     ]
    },
    {
     "data": {
      "image/png": "[encoded data removed]",
      "text/plain": [
       "<Figure size 432x288 with 1 Axes>"
      ]
     },
     "metadata": {},
     "output_type": "display_data"
    },
    {
     "name": "stdout",
     "output_type": "stream",
     "text": [
      "AUC: 0.755\n"
     ]
    },
    {
     "data": {
      "image/png": "[encoded data removed]",
      "text/plain": [
       "<Figure size 648x648 with 2 Axes>"
      ]
     },
     "metadata": {},
     "output_type": "display_data"
    }
   ],
   "source": [
    "print(\"<--------------------------------------XG-BOOST------------------------------------->\")\n",
    "from sklearn.ensemble import GradientBoostingClassifier\n",
    "clf = GradientBoostingClassifier(n_estimators=100, learning_rate=1.0, max_depth=1)\n",
    "m=clf.fit(os_smote_X, os_smote_Y) \n",
    "predictions=m.predict(x_test)\n",
    "from sklearn import metrics\n",
    "mett=metrics.classification_report(y_test,predictions)\n",
    "print (mett)\n",
    "p=[]\n",
    "\n",
    "cm = metrics.confusion_matrix(y_test, predictions)\n",
    "print(cm)\n",
    "roc_plot(m,x_test,y_test,predictions)"
   ]
  },
  {
   "cell_type": "code",
   "execution_count": 64,
   "metadata": {},
   "outputs": [],
   "source": [
    "from xgboost import XGBClassifier\n",
    "\n",
    "xgc = XGBClassifier(base_score=0.5, booster='gbtree', colsample_bylevel=1,\n",
    "                    colsample_bytree=1, gamma=0, learning_rate=0.9, max_delta_step=0,\n",
    "                    max_depth = 7, min_child_weight=1, missing=None, n_estimators=100,\n",
    "                    n_jobs=1, nthread=None, objective='binary:logistic', random_state=0,\n",
    "                    reg_alpha=0, reg_lambda=1, scale_pos_weight=1, seed=None,\n",
    "                    silent=True, subsample=1)"
   ]
  },
  {
   "cell_type": "code",
   "execution_count": 65,
   "metadata": {},
   "outputs": [
    {
     "name": "stderr",
     "output_type": "stream",
     "text": [
      "C:\\anaconda3\\lib\\site-packages\\sklearn\\preprocessing\\label.py:219: DataConversionWarning: A column-vector y was passed when a 1d array was expected. Please change the shape of y to (n_samples, ), for example using ravel().\n",
      "  y = column_or_1d(y, warn=True)\n",
      "C:\\anaconda3\\lib\\site-packages\\sklearn\\preprocessing\\label.py:252: DataConversionWarning: A column-vector y was passed when a 1d array was expected. Please change the shape of y to (n_samples, ), for example using ravel().\n",
      "  y = column_or_1d(y, warn=True)\n"
     ]
    },
    {
     "name": "stdout",
     "output_type": "stream",
     "text": [
      "              precision    recall  f1-score   support\n",
      "\n",
      "           0       0.84      0.85      0.85      1038\n",
      "           1       0.57      0.55      0.56       369\n",
      "\n",
      "   micro avg       0.77      0.77      0.77      1407\n",
      "   macro avg       0.71      0.70      0.71      1407\n",
      "weighted avg       0.77      0.77      0.77      1407\n",
      "\n",
      "[[886 152]\n",
      " [165 204]]\n",
      "tpr= [0.         0.55284553 1.        ]  and 1-fpr= [1.         0.85356455 0.        ]\n"
     ]
    },
    {
     "data": {
      "image/png": "[encoded data removed]",
      "text/plain": [
       "<Figure size 432x288 with 1 Axes>"
      ]
     },
     "metadata": {},
     "output_type": "display_data"
    },
    {
     "name": "stdout",
     "output_type": "stream",
     "text": [
      "AUC: 0.703\n"
     ]
    },
    {
     "data": {
      "image/png": "[encoded data removed]",
      "text/plain": [
       "<Figure size 648x648 with 2 Axes>"
      ]
     },
     "metadata": {},
     "output_type": "display_data"
    }
   ],
   "source": [
    "m=xgc.fit(os_smote_X, os_smote_Y) \n",
    "predictions=m.predict(x_test)\n",
    "from sklearn import metrics\n",
    "mett=metrics.classification_report(y_test,predictions)\n",
    "print (mett)\n",
    "p=[]\n",
    "\n",
    "cm = metrics.confusion_matrix(y_test, predictions)\n",
    "print(cm)\n",
    "roc_plot(m,x_test,y_test,predictions)"
   ]
  },
  {
   "cell_type": "code",
   "execution_count": 74,
   "metadata": {},
   "outputs": [
    {
     "ename": "ValueError",
     "evalue": "Input X must be non-negative.",
     "output_type": "error",
     "traceback": [
      "\u001b[1;31m---------------------------------------------------------------------------\u001b[0m",
      "\u001b[1;31mValueError\u001b[0m                                Traceback (most recent call last)",
      "\u001b[1;32m<ipython-input-74-14354281c79b>\u001b[0m in \u001b[0;36m<module>\u001b[1;34m()\u001b[0m\n\u001b[0;32m      7\u001b[0m \u001b[1;33m\u001b[0m\u001b[0m\n\u001b[0;32m      8\u001b[0m \u001b[0mtest\u001b[0m \u001b[1;33m=\u001b[0m \u001b[0mSelectKBest\u001b[0m\u001b[1;33m(\u001b[0m\u001b[0mchi2\u001b[0m\u001b[1;33m,\u001b[0m \u001b[0mk\u001b[0m\u001b[1;33m=\u001b[0m\u001b[1;36m13\u001b[0m\u001b[1;33m)\u001b[0m\u001b[1;33m\u001b[0m\u001b[0m\n\u001b[1;32m----> 9\u001b[1;33m \u001b[0mfit\u001b[0m\u001b[1;33m=\u001b[0m\u001b[0mtest\u001b[0m\u001b[1;33m.\u001b[0m\u001b[0mfit\u001b[0m\u001b[1;33m(\u001b[0m\u001b[0mx_train\u001b[0m\u001b[1;33m,\u001b[0m\u001b[0my_train\u001b[0m\u001b[1;33m)\u001b[0m\u001b[1;33m\u001b[0m\u001b[0m\n\u001b[0m\u001b[0;32m     10\u001b[0m \u001b[0mindices_selected\u001b[0m\u001b[1;33m=\u001b[0m \u001b[0mfit\u001b[0m\u001b[1;33m.\u001b[0m\u001b[0mget_support\u001b[0m\u001b[1;33m(\u001b[0m\u001b[0mindices\u001b[0m\u001b[1;33m=\u001b[0m\u001b[1;32mTrue\u001b[0m\u001b[1;33m)\u001b[0m\u001b[1;33m\u001b[0m\u001b[0m\n\u001b[0;32m     11\u001b[0m \u001b[0mcolumns_selected\u001b[0m\u001b[1;33m=\u001b[0m \u001b[1;33m[\u001b[0m\u001b[0mX\u001b[0m\u001b[1;33m.\u001b[0m\u001b[0mcolumns\u001b[0m\u001b[1;33m[\u001b[0m\u001b[0mi\u001b[0m\u001b[1;33m]\u001b[0m \u001b[1;32mfor\u001b[0m \u001b[0mi\u001b[0m \u001b[1;32min\u001b[0m \u001b[0mindices_selected\u001b[0m\u001b[1;33m]\u001b[0m\u001b[1;33m\u001b[0m\u001b[0m\n",
      "\u001b[1;32mC:\\anaconda3\\lib\\site-packages\\sklearn\\feature_selection\\univariate_selection.py\u001b[0m in \u001b[0;36mfit\u001b[1;34m(self, X, y)\u001b[0m\n\u001b[0;32m    347\u001b[0m \u001b[1;33m\u001b[0m\u001b[0m\n\u001b[0;32m    348\u001b[0m         \u001b[0mself\u001b[0m\u001b[1;33m.\u001b[0m\u001b[0m_check_params\u001b[0m\u001b[1;33m(\u001b[0m\u001b[0mX\u001b[0m\u001b[1;33m,\u001b[0m \u001b[0my\u001b[0m\u001b[1;33m)\u001b[0m\u001b[1;33m\u001b[0m\u001b[0m\n\u001b[1;32m--> 349\u001b[1;33m         \u001b[0mscore_func_ret\u001b[0m \u001b[1;33m=\u001b[0m \u001b[0mself\u001b[0m\u001b[1;33m.\u001b[0m\u001b[0mscore_func\u001b[0m\u001b[1;33m(\u001b[0m\u001b[0mX\u001b[0m\u001b[1;33m,\u001b[0m \u001b[0my\u001b[0m\u001b[1;33m)\u001b[0m\u001b[1;33m\u001b[0m\u001b[0m\n\u001b[0m\u001b[0;32m    350\u001b[0m         \u001b[1;32mif\u001b[0m \u001b[0misinstance\u001b[0m\u001b[1;33m(\u001b[0m\u001b[0mscore_func_ret\u001b[0m\u001b[1;33m,\u001b[0m \u001b[1;33m(\u001b[0m\u001b[0mlist\u001b[0m\u001b[1;33m,\u001b[0m \u001b[0mtuple\u001b[0m\u001b[1;33m)\u001b[0m\u001b[1;33m)\u001b[0m\u001b[1;33m:\u001b[0m\u001b[1;33m\u001b[0m\u001b[0m\n\u001b[0;32m    351\u001b[0m             \u001b[0mself\u001b[0m\u001b[1;33m.\u001b[0m\u001b[0mscores_\u001b[0m\u001b[1;33m,\u001b[0m \u001b[0mself\u001b[0m\u001b[1;33m.\u001b[0m\u001b[0mpvalues_\u001b[0m \u001b[1;33m=\u001b[0m \u001b[0mscore_func_ret\u001b[0m\u001b[1;33m\u001b[0m\u001b[0m\n",
      "\u001b[1;32mC:\\anaconda3\\lib\\site-packages\\sklearn\\feature_selection\\univariate_selection.py\u001b[0m in \u001b[0;36mchi2\u001b[1;34m(X, y)\u001b[0m\n\u001b[0;32m    214\u001b[0m     \u001b[0mX\u001b[0m \u001b[1;33m=\u001b[0m \u001b[0mcheck_array\u001b[0m\u001b[1;33m(\u001b[0m\u001b[0mX\u001b[0m\u001b[1;33m,\u001b[0m \u001b[0maccept_sparse\u001b[0m\u001b[1;33m=\u001b[0m\u001b[1;34m'csr'\u001b[0m\u001b[1;33m)\u001b[0m\u001b[1;33m\u001b[0m\u001b[0m\n\u001b[0;32m    215\u001b[0m     \u001b[1;32mif\u001b[0m \u001b[0mnp\u001b[0m\u001b[1;33m.\u001b[0m\u001b[0many\u001b[0m\u001b[1;33m(\u001b[0m\u001b[1;33m(\u001b[0m\u001b[0mX\u001b[0m\u001b[1;33m.\u001b[0m\u001b[0mdata\u001b[0m \u001b[1;32mif\u001b[0m \u001b[0missparse\u001b[0m\u001b[1;33m(\u001b[0m\u001b[0mX\u001b[0m\u001b[1;33m)\u001b[0m \u001b[1;32melse\u001b[0m \u001b[0mX\u001b[0m\u001b[1;33m)\u001b[0m \u001b[1;33m<\u001b[0m \u001b[1;36m0\u001b[0m\u001b[1;33m)\u001b[0m\u001b[1;33m:\u001b[0m\u001b[1;33m\u001b[0m\u001b[0m\n\u001b[1;32m--> 216\u001b[1;33m         \u001b[1;32mraise\u001b[0m \u001b[0mValueError\u001b[0m\u001b[1;33m(\u001b[0m\u001b[1;34m\"Input X must be non-negative.\"\u001b[0m\u001b[1;33m)\u001b[0m\u001b[1;33m\u001b[0m\u001b[0m\n\u001b[0m\u001b[0;32m    217\u001b[0m \u001b[1;33m\u001b[0m\u001b[0m\n\u001b[0;32m    218\u001b[0m     \u001b[0mY\u001b[0m \u001b[1;33m=\u001b[0m \u001b[0mLabelBinarizer\u001b[0m\u001b[1;33m(\u001b[0m\u001b[1;33m)\u001b[0m\u001b[1;33m.\u001b[0m\u001b[0mfit_transform\u001b[0m\u001b[1;33m(\u001b[0m\u001b[0my\u001b[0m\u001b[1;33m)\u001b[0m\u001b[1;33m\u001b[0m\u001b[0m\n",
      "\u001b[1;31mValueError\u001b[0m: Input X must be non-negative."
     ]
    }
   ],
   "source": [
    "'''-------------------------FEATURE SELECTION(mutual_info_classif)-------------------------------'''\n",
    "from sklearn.feature_selection import SelectKBest\n",
    "from sklearn.feature_selection import chi2\n",
    "from sklearn.feature_selection import f_classif\n",
    "from sklearn.feature_selection import SelectFwe\n",
    "from sklearn.feature_selection import mutual_info_classif\n",
    "\n",
    "test = SelectKBest(chi2, k=13)\n",
    "fit=test.fit(x_train,y_train)\n",
    "indices_selected= fit.get_support(indices=True)\n",
    "columns_selected= [X.columns[i] for i in indices_selected]\n",
    "x_train_selected=x_train[columns_selected]\n",
    "x_test_selected=x_test[columns_selected]\n",
    "\n",
    "print(x_train_selected.shape)\n",
    "print(x_test_selected.shape)"
   ]
  },
  {
   "cell_type": "code",
   "execution_count": 75,
   "metadata": {},
   "outputs": [
    {
     "data": {
      "text/plain": [
       "array([ 2,  6,  8, 13, 15, 17, 19, 20, 23, 24, 38, 39, 40], dtype=int64)"
      ]
     },
     "execution_count": 75,
     "metadata": {},
     "output_type": "execute_result"
    }
   ],
   "source": [
    "indices_selected"
   ]
  },
  {
   "cell_type": "code",
   "execution_count": 71,
   "metadata": {},
   "outputs": [
    {
     "name": "stderr",
     "output_type": "stream",
     "text": [
      "C:\\anaconda3\\lib\\site-packages\\sklearn\\utils\\validation.py:752: DataConversionWarning: A column-vector y was passed when a 1d array was expected. Please change the shape of y to (n_samples, ), for example using ravel().\n",
      "  y = column_or_1d(y, warn=True)\n"
     ]
    }
   ],
   "source": [
    "os_smote_X_feat,os_smote_Y_feat = os.fit_sample(x_train_selected,y_train)"
   ]
  },
  {
   "cell_type": "code",
   "execution_count": 73,
   "metadata": {},
   "outputs": [
    {
     "name": "stdout",
     "output_type": "stream",
     "text": [
      "(8250, 13)\n",
      "(8250,)\n"
     ]
    }
   ],
   "source": [
    "cols=[i for i in x_train_selected.columns]\n",
    "os_smote_X_feat=pd.DataFrame(data=os_smote_X_feat,columns=cols)\n",
    "os_smote_Y_feat = pd.DataFrame(data = os_smote_Y_feat,columns=['Churn'])\n",
    "print(os_smote_X.shape)\n",
    "print(os_smote_Y.shape)\n"
   ]
  },
  {
   "cell_type": "code",
   "execution_count": null,
   "metadata": {},
   "outputs": [],
   "source": []
  }
 ],
 "metadata": {
  "kernelspec": {
   "display_name": "Python 3",
   "language": "python",
   "name": "python3"
  },
  "language_info": {
   "codemirror_mode": {
    "name": "ipython",
    "version": 3
   },
   "file_extension": ".py",
   "mimetype": "text/x-python",
   "name": "python",
   "nbconvert_exporter": "python",
   "pygments_lexer": "ipython3",
   "version": "3.6.5"
  }
 },
 "nbformat": 4,
 "nbformat_minor": 2
}
