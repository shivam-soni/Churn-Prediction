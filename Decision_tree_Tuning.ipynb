{
 "cells": [
  {
   "cell_type": "code",
   "execution_count": 17,
   "metadata": {},
   "outputs": [
    {
     "data": {
      "text/plain": [
       "'std = StandardScaler().fit(X[num_cols])\\nx_transformed=std.transform(X[num_cols])\\nx_transformed_df=pd.DataFrame(x_transformed,columns=num_cols)\\nx_kf=X.drop(num_cols,1)\\nx_kf=pd.concat([x_kf.reset_index(drop=True),x_transformed_df.reset_index(drop=True) ],axis=1)'"
      ]
     },
     "execution_count": 17,
     "metadata": {},
     "output_type": "execute_result"
    }
   ],
   "source": [
    "import numpy as np\n",
    "import matplotlib.pyplot as pt\n",
    "import pandas as pd\n",
    "import statsmodels.stats.outliers_influence as oi\n",
    "from sklearn.metrics import roc_curve\n",
    "from sklearn.metrics import roc_auc_score\n",
    "import warnings\n",
    "warnings.filterwarnings(\"ignore\")\n",
    "df=pd.read_csv('Churn.csv')\n",
    "\n",
    "\"\"\"----------------------------DATA PREPARATION--------------------------\"\"\"\n",
    "\n",
    "for i in df.columns:\n",
    "    df[i]=df[i].replace(\" \",np.NaN)\n",
    "    \n",
    "#print (df.isnull().sum())\n",
    "\n",
    "    \n",
    "df.dropna(inplace=True)\n",
    "df = df.reset_index()[df.columns]\n",
    "#print (df.isnull().sum())\n",
    "'''def tenure_lab(t) :\n",
    "    \n",
    "    if t <= 12 :\n",
    "        return 1\n",
    "    elif (t > 12) & (t <= 24 ):\n",
    "        return 2\n",
    "    elif (t > 24) & (t <= 48) :\n",
    "        return 3\n",
    "    elif (t > 48) & (t <= 60) :\n",
    "        return 4\n",
    "    elif t > 60 :\n",
    "        return 5\n",
    "\n",
    "df[\"tenure\"]=df[\"tenure\"].map(tenure_lab)'''\n",
    "\n",
    "\n",
    "#since we have 72 categories in tenure we will reduce the number of categories in it\n",
    "#therefoe we made above function and to check how many categories each column has now,we are using the following loop\n",
    "\n",
    "for c_n in df.columns:\n",
    "    #print c_n\n",
    "   # if X[c_n]=='object' :\n",
    "    unique_cat=df[c_n].nunique()\n",
    "    #print (\"Feature\", c_n,\"has\", unique_cat,\"unique categories\")\n",
    "\n",
    "\n",
    "X=df.drop('Churn',1)\n",
    "Y=df.Churn\n",
    "\n",
    "X=X.drop('customerID',1)\n",
    "\n",
    "todummy_list  =X.nunique()[X.nunique() < 6].keys().tolist()\n",
    "\n",
    "num_cols   = [x for x in X.columns if x not in todummy_list]\n",
    "'''todummy_list.remove('tenure')\n",
    "num_cols.insert(3,'tenure')'''\n",
    "X_org=X.copy()\n",
    "\n",
    "for i in todummy_list:\n",
    "    dummies= pd.get_dummies(X[i],prefix=i)\n",
    "    #print dummies\n",
    "    #dummies=dummies.iloc[:,1:]\n",
    "    X=X.drop(i,1)\n",
    "    X=pd.concat([dummies,X],axis=1)\n",
    "X=X.drop(['StreamingTV_No internet service','StreamingMovies_No internet service','TechSupport_No internet service','DeviceProtection_No internet service','OnlineBackup_No internet service'],axis=1)\n",
    "    \n",
    "from sklearn.preprocessing import LabelEncoder\n",
    "from sklearn.model_selection import train_test_split\n",
    "le = LabelEncoder()\n",
    "Y= le.fit_transform(Y)\n",
    "x_train, x_test, y_train, y_test = train_test_split(X, Y, test_size=0.20, random_state=0)\n",
    "\n",
    "\n",
    "from sklearn.preprocessing import StandardScaler\n",
    "# Fitting parameters for scaling x_train for the numerical columns \n",
    "std = StandardScaler().fit(x_train[num_cols])\n",
    "#Transforming the the original data\n",
    "x_train_transformed=std.transform(x_train[num_cols])\n",
    "x_train_transformed_df = pd.DataFrame(x_train_transformed,columns=num_cols)\n",
    "x_train=x_train.drop(num_cols,1)\n",
    "x_train=pd.concat([x_train.reset_index(drop=True),x_train_transformed_df.reset_index(drop=True) ],axis=1)\n",
    "\n",
    "#Transforming the the test data's numerical with x_train scaled parameters\n",
    "x_test_transformed=std.transform(x_test[num_cols])\n",
    "x_test_transformed_df = pd.DataFrame(x_test_transformed,columns=num_cols)\n",
    "x_test=x_test.drop(num_cols,1)\n",
    "x_test=pd.concat([x_test.reset_index(drop=True),x_test_transformed_df .reset_index(drop=True) ],axis=1)\n",
    "\n",
    "'''std = StandardScaler().fit(X[num_cols])\n",
    "x_transformed=std.transform(X[num_cols])\n",
    "x_transformed_df=pd.DataFrame(x_transformed,columns=num_cols)\n",
    "x_kf=X.drop(num_cols,1)\n",
    "x_kf=pd.concat([x_kf.reset_index(drop=True),x_transformed_df.reset_index(drop=True) ],axis=1)'''\n"
   ]
  },
  {
   "cell_type": "code",
   "execution_count": 18,
   "metadata": {},
   "outputs": [
    {
     "name": "stdout",
     "output_type": "stream",
     "text": [
      "['tenure', 'MonthlyCharges', 'TotalCharges']\n",
      "['gender', 'SeniorCitizen', 'Partner', 'Dependents', 'PhoneService', 'MultipleLines', 'InternetService', 'OnlineSecurity', 'OnlineBackup', 'DeviceProtection', 'TechSupport', 'StreamingTV', 'StreamingMovies', 'Contract', 'PaperlessBilling', 'PaymentMethod']\n"
     ]
    },
    {
     "data": {
      "text/plain": [
       "(5625, 41)"
      ]
     },
     "execution_count": 18,
     "metadata": {},
     "output_type": "execute_result"
    }
   ],
   "source": [
    "print(num_cols)\n",
    "print(todummy_list)\n",
    "x_train.shape"
   ]
  },
  {
   "cell_type": "code",
   "execution_count": 19,
   "metadata": {},
   "outputs": [],
   "source": [
    "def roc_plot(clf_obj,x_test,y_test,predictions):\n",
    "    \n",
    "    # all parameters not specified are set to their defaults\n",
    "    \n",
    "   \n",
    "        \n",
    "        \n",
    "        \n",
    "    \n",
    " \n",
    "    fpr, tpr, thresholds = roc_curve(y_test, predictions)\n",
    "    \n",
    "    print(\"tpr=\",tpr,\" and 1-fpr=\", 1-fpr)\n",
    "\n",
    "    #plot no skill\n",
    "    from matplotlib import pyplot\n",
    "    pyplot.plot([0, 1], [0, 1], linestyle='--')\n",
    "    # plot the roc curve for the model\n",
    "    pyplot.plot(fpr, tpr, marker='.')\n",
    "    # show the plot\n",
    "    pyplot.show()\n",
    "\n",
    "    auc = roc_auc_score(y_test, predictions)\n",
    "    print('AUC: %.3f' % auc)\n",
    "    '''probs = m.predict_proba(x_test)\n",
    "    probs = probs[:, 1]\n",
    "\n",
    "\n",
    "    fpr1, tpr1, thresholds1 = roc_curve(y_test, probs)\n",
    "\n",
    "    #plot no skill\n",
    "    pyplot.plot([0, 1], [0, 1], linestyle='--')\n",
    "    # plot the roc curve for the model\n",
    "    pyplot.plot(fpr1, tpr1, marker='.')\n",
    "    # show the plot\n",
    "    pyplot.show()\n",
    "\n",
    "    auc = roc_auc_score(y_test, probs)\n",
    "    print('AUC: %.3f' % auc)'''\n",
    "\n",
    "\n",
    "    import matplotlib.pyplot as plt\n",
    "    import seaborn as sns\n",
    "\n",
    "    score = clf_obj.score(x_test, y_test)\n",
    "    plt.figure(figsize=(9,9))\n",
    "    sns.heatmap(cm, annot=True, fmt=\".3f\", linewidths=.5, square = True, cmap = 'Blues_r');\n",
    "    plt.ylabel('Actual label');\n",
    "    plt.xlabel('Predicted label');\n",
    "    all_sample_title =' Accuracy Score: {0}'.format(score)\n",
    "    plt.title(all_sample_title, size = 15);\n"
   ]
  },
  {
   "cell_type": "code",
   "execution_count": 20,
   "metadata": {},
   "outputs": [
    {
     "data": {
      "text/plain": [
       "GridSearchCV(cv='warn', error_score='raise-deprecating',\n",
       "       estimator=DecisionTreeClassifier(class_weight=None, criterion='gini', max_depth=None,\n",
       "            max_features=None, max_leaf_nodes=None,\n",
       "            min_impurity_decrease=0.0, min_impurity_split=None,\n",
       "            min_samples_leaf=1, min_samples_split=2,\n",
       "            min_weight_fraction_leaf=0.0, presort=False, random_state=None,\n",
       "            splitter='best'),\n",
       "       fit_params=None, iid='warn', n_jobs=None,\n",
       "       param_grid={'max_depth': [5, 7, 8, 10, 15, 20, 23, 25, 30, 35, 100], 'max_features': [8, 12, 14, 16, 20, 24, 28, 29, 35]},\n",
       "       pre_dispatch='2*n_jobs', refit=True, return_train_score='warn',\n",
       "       scoring='roc_auc', verbose=0)"
      ]
     },
     "execution_count": 20,
     "metadata": {},
     "output_type": "execute_result"
    }
   ],
   "source": [
    "from sklearn.model_selection import GridSearchCV\n",
    "from sklearn.tree import DecisionTreeClassifier \n",
    "clf_gini = DecisionTreeClassifier()\n",
    "\n",
    "gs = GridSearchCV(clf_gini, param_grid={'max_depth' :[5,7,8,10,15,20,23,25,30,35,100],'max_features':[8,12,14,16,20,24,28,29,35]},scoring='roc_auc')\n",
    "gs.fit(x_train,y_train)"
   ]
  },
  {
   "cell_type": "code",
   "execution_count": 21,
   "metadata": {
    "scrolled": false
   },
   "outputs": [
    {
     "name": "stdout",
     "output_type": "stream",
     "text": [
      "1) 0.811 (+/-0.034) for {'max_depth': 5, 'max_features': 8}\n",
      "2) 0.807 (+/-0.029) for {'max_depth': 5, 'max_features': 12}\n",
      "3) 0.828 (+/-0.014) for {'max_depth': 5, 'max_features': 14}\n",
      "4) 0.823 (+/-0.019) for {'max_depth': 5, 'max_features': 16}\n",
      "5) 0.822 (+/-0.010) for {'max_depth': 5, 'max_features': 20}\n",
      "6) 0.825 (+/-0.012) for {'max_depth': 5, 'max_features': 24}\n",
      "7) 0.826 (+/-0.019) for {'max_depth': 5, 'max_features': 28}\n",
      "8) 0.828 (+/-0.007) for {'max_depth': 5, 'max_features': 29}\n",
      "9) 0.833 (+/-0.013) for {'max_depth': 5, 'max_features': 35}\n",
      "10) 0.807 (+/-0.020) for {'max_depth': 7, 'max_features': 8}\n",
      "11) 0.812 (+/-0.013) for {'max_depth': 7, 'max_features': 12}\n",
      "12) 0.810 (+/-0.009) for {'max_depth': 7, 'max_features': 14}\n",
      "13) 0.817 (+/-0.013) for {'max_depth': 7, 'max_features': 16}\n",
      "14) 0.807 (+/-0.008) for {'max_depth': 7, 'max_features': 20}\n",
      "15) 0.807 (+/-0.012) for {'max_depth': 7, 'max_features': 24}\n",
      "16) 0.802 (+/-0.017) for {'max_depth': 7, 'max_features': 28}\n",
      "17) 0.811 (+/-0.017) for {'max_depth': 7, 'max_features': 29}\n",
      "18) 0.809 (+/-0.019) for {'max_depth': 7, 'max_features': 35}\n",
      "19) 0.796 (+/-0.008) for {'max_depth': 8, 'max_features': 8}\n",
      "20) 0.794 (+/-0.010) for {'max_depth': 8, 'max_features': 12}\n",
      "21) 0.791 (+/-0.003) for {'max_depth': 8, 'max_features': 14}\n",
      "22) 0.792 (+/-0.006) for {'max_depth': 8, 'max_features': 16}\n",
      "23) 0.788 (+/-0.011) for {'max_depth': 8, 'max_features': 20}\n",
      "24) 0.791 (+/-0.004) for {'max_depth': 8, 'max_features': 24}\n",
      "25) 0.790 (+/-0.013) for {'max_depth': 8, 'max_features': 28}\n",
      "26) 0.778 (+/-0.005) for {'max_depth': 8, 'max_features': 29}\n",
      "27) 0.788 (+/-0.015) for {'max_depth': 8, 'max_features': 35}\n",
      "28) 0.755 (+/-0.014) for {'max_depth': 10, 'max_features': 8}\n",
      "29) 0.749 (+/-0.005) for {'max_depth': 10, 'max_features': 12}\n",
      "30) 0.740 (+/-0.012) for {'max_depth': 10, 'max_features': 14}\n",
      "31) 0.741 (+/-0.008) for {'max_depth': 10, 'max_features': 16}\n",
      "32) 0.750 (+/-0.019) for {'max_depth': 10, 'max_features': 20}\n",
      "33) 0.732 (+/-0.022) for {'max_depth': 10, 'max_features': 24}\n",
      "34) 0.744 (+/-0.016) for {'max_depth': 10, 'max_features': 28}\n",
      "35) 0.742 (+/-0.023) for {'max_depth': 10, 'max_features': 29}\n",
      "36) 0.736 (+/-0.008) for {'max_depth': 10, 'max_features': 35}\n",
      "37) 0.670 (+/-0.009) for {'max_depth': 15, 'max_features': 8}\n",
      "38) 0.673 (+/-0.027) for {'max_depth': 15, 'max_features': 12}\n",
      "39) 0.668 (+/-0.019) for {'max_depth': 15, 'max_features': 14}\n",
      "40) 0.677 (+/-0.015) for {'max_depth': 15, 'max_features': 16}\n",
      "41) 0.674 (+/-0.009) for {'max_depth': 15, 'max_features': 20}\n",
      "42) 0.678 (+/-0.018) for {'max_depth': 15, 'max_features': 24}\n",
      "43) 0.670 (+/-0.029) for {'max_depth': 15, 'max_features': 28}\n",
      "44) 0.672 (+/-0.018) for {'max_depth': 15, 'max_features': 29}\n",
      "45) 0.665 (+/-0.007) for {'max_depth': 15, 'max_features': 35}\n",
      "46) 0.659 (+/-0.009) for {'max_depth': 20, 'max_features': 8}\n",
      "47) 0.653 (+/-0.019) for {'max_depth': 20, 'max_features': 12}\n",
      "48) 0.655 (+/-0.025) for {'max_depth': 20, 'max_features': 14}\n",
      "49) 0.645 (+/-0.014) for {'max_depth': 20, 'max_features': 16}\n",
      "50) 0.656 (+/-0.014) for {'max_depth': 20, 'max_features': 20}\n",
      "51) 0.654 (+/-0.024) for {'max_depth': 20, 'max_features': 24}\n",
      "52) 0.650 (+/-0.011) for {'max_depth': 20, 'max_features': 28}\n",
      "53) 0.648 (+/-0.038) for {'max_depth': 20, 'max_features': 29}\n",
      "54) 0.654 (+/-0.029) for {'max_depth': 20, 'max_features': 35}\n",
      "55) 0.660 (+/-0.004) for {'max_depth': 23, 'max_features': 8}\n",
      "56) 0.655 (+/-0.010) for {'max_depth': 23, 'max_features': 12}\n",
      "57) 0.659 (+/-0.020) for {'max_depth': 23, 'max_features': 14}\n",
      "58) 0.658 (+/-0.020) for {'max_depth': 23, 'max_features': 16}\n",
      "59) 0.644 (+/-0.022) for {'max_depth': 23, 'max_features': 20}\n",
      "60) 0.664 (+/-0.017) for {'max_depth': 23, 'max_features': 24}\n",
      "61) 0.657 (+/-0.002) for {'max_depth': 23, 'max_features': 28}\n",
      "62) 0.644 (+/-0.016) for {'max_depth': 23, 'max_features': 29}\n",
      "63) 0.653 (+/-0.022) for {'max_depth': 23, 'max_features': 35}\n",
      "64) 0.643 (+/-0.009) for {'max_depth': 25, 'max_features': 8}\n",
      "65) 0.646 (+/-0.012) for {'max_depth': 25, 'max_features': 12}\n",
      "66) 0.654 (+/-0.007) for {'max_depth': 25, 'max_features': 14}\n",
      "67) 0.656 (+/-0.024) for {'max_depth': 25, 'max_features': 16}\n",
      "68) 0.643 (+/-0.015) for {'max_depth': 25, 'max_features': 20}\n",
      "69) 0.657 (+/-0.015) for {'max_depth': 25, 'max_features': 24}\n",
      "70) 0.656 (+/-0.016) for {'max_depth': 25, 'max_features': 28}\n",
      "71) 0.647 (+/-0.014) for {'max_depth': 25, 'max_features': 29}\n",
      "72) 0.653 (+/-0.007) for {'max_depth': 25, 'max_features': 35}\n",
      "73) 0.660 (+/-0.024) for {'max_depth': 30, 'max_features': 8}\n",
      "74) 0.645 (+/-0.028) for {'max_depth': 30, 'max_features': 12}\n",
      "75) 0.651 (+/-0.015) for {'max_depth': 30, 'max_features': 14}\n",
      "76) 0.662 (+/-0.006) for {'max_depth': 30, 'max_features': 16}\n",
      "77) 0.670 (+/-0.006) for {'max_depth': 30, 'max_features': 20}\n",
      "78) 0.655 (+/-0.022) for {'max_depth': 30, 'max_features': 24}\n",
      "79) 0.652 (+/-0.022) for {'max_depth': 30, 'max_features': 28}\n",
      "80) 0.652 (+/-0.011) for {'max_depth': 30, 'max_features': 29}\n",
      "81) 0.655 (+/-0.014) for {'max_depth': 30, 'max_features': 35}\n",
      "82) 0.655 (+/-0.001) for {'max_depth': 35, 'max_features': 8}\n",
      "83) 0.646 (+/-0.005) for {'max_depth': 35, 'max_features': 12}\n",
      "84) 0.660 (+/-0.011) for {'max_depth': 35, 'max_features': 14}\n",
      "85) 0.663 (+/-0.007) for {'max_depth': 35, 'max_features': 16}\n",
      "86) 0.655 (+/-0.013) for {'max_depth': 35, 'max_features': 20}\n",
      "87) 0.647 (+/-0.035) for {'max_depth': 35, 'max_features': 24}\n",
      "88) 0.650 (+/-0.015) for {'max_depth': 35, 'max_features': 28}\n",
      "89) 0.666 (+/-0.027) for {'max_depth': 35, 'max_features': 29}\n",
      "90) 0.651 (+/-0.018) for {'max_depth': 35, 'max_features': 35}\n",
      "91) 0.664 (+/-0.013) for {'max_depth': 100, 'max_features': 8}\n",
      "92) 0.658 (+/-0.015) for {'max_depth': 100, 'max_features': 12}\n",
      "93) 0.653 (+/-0.016) for {'max_depth': 100, 'max_features': 14}\n",
      "94) 0.667 (+/-0.009) for {'max_depth': 100, 'max_features': 16}\n",
      "95) 0.654 (+/-0.033) for {'max_depth': 100, 'max_features': 20}\n",
      "96) 0.659 (+/-0.012) for {'max_depth': 100, 'max_features': 24}\n",
      "97) 0.644 (+/-0.010) for {'max_depth': 100, 'max_features': 28}\n",
      "98) 0.648 (+/-0.021) for {'max_depth': 100, 'max_features': 29}\n",
      "99) 0.654 (+/-0.006) for {'max_depth': 100, 'max_features': 35}\n",
      "Best score: 0.8331\n",
      "Best parameters:\n",
      " {'max_depth': 5, 'max_features': 35}\n",
      "Best estimator:\n",
      " DecisionTreeClassifier(class_weight=None, criterion='gini', max_depth=5,\n",
      "            max_features=35, max_leaf_nodes=None,\n",
      "            min_impurity_decrease=0.0, min_impurity_split=None,\n",
      "            min_samples_leaf=1, min_samples_split=2,\n",
      "            min_weight_fraction_leaf=0.0, presort=False, random_state=None,\n",
      "            splitter='best')\n"
     ]
    }
   ],
   "source": [
    "means = gs.cv_results_['mean_test_score']\n",
    "stds = gs.cv_results_['std_test_score']\n",
    "c=0\n",
    "for mean, std, params in zip(means, stds, gs.cv_results_['params']):\n",
    "    c=c+1\n",
    "    print(\"%d) %0.3f (+/-%0.03f) for %r\"% (c,mean, std * 2, params))\n",
    "\n",
    "print(\"Best score: %0.4f\" % gs.best_score_)\n",
    "\n",
    "print(\"Best parameters:\\n\",gs.best_params_)\n",
    "\n",
    "\n",
    "print(\"Best estimator:\\n\",gs.best_estimator_)"
   ]
  },
  {
   "cell_type": "code",
   "execution_count": 22,
   "metadata": {},
   "outputs": [
    {
     "name": "stdout",
     "output_type": "stream",
     "text": [
      "DecisionTreeClassifier(class_weight=None, criterion='gini', max_depth=5,\n",
      "            max_features=35, max_leaf_nodes=None,\n",
      "            min_impurity_decrease=0.0, min_impurity_split=None,\n",
      "            min_samples_leaf=1, min_samples_split=2,\n",
      "            min_weight_fraction_leaf=0.0, presort=False, random_state=None,\n",
      "            splitter='best')\n"
     ]
    }
   ],
   "source": [
    "m=gs.best_estimator_\n",
    "print (m)"
   ]
  },
  {
   "cell_type": "code",
   "execution_count": 23,
   "metadata": {},
   "outputs": [
    {
     "name": "stdout",
     "output_type": "stream",
     "text": [
      "              precision    recall  f1-score   support\n",
      "\n",
      "           0       0.85      0.86      0.86      1038\n",
      "           1       0.59      0.57      0.58       369\n",
      "\n",
      "   micro avg       0.79      0.79      0.79      1407\n",
      "   macro avg       0.72      0.72      0.72      1407\n",
      "weighted avg       0.78      0.79      0.78      1407\n",
      "\n",
      "[[894 144]\n",
      " [158 211]]\n",
      "tpr= [0.         0.57181572 1.        ]  and 1-fpr= [1.         0.86127168 0.        ]\n"
     ]
    },
    {
     "data": {
      "image/png": "[encoded data removed]",
      "text/plain": [
       "<Figure size 432x288 with 1 Axes>"
      ]
     },
     "metadata": {},
     "output_type": "display_data"
    },
    {
     "name": "stdout",
     "output_type": "stream",
     "text": [
      "AUC: 0.717\n"
     ]
    },
    {
     "data": {
      "image/png": "[encoded data removed]",
      "text/plain": [
       "<Figure size 648x648 with 2 Axes>"
      ]
     },
     "metadata": {},
     "output_type": "display_data"
    }
   ],
   "source": [
    "model=m.fit(x_train, y_train)\n",
    "predictions = model.predict(x_test)\n",
    "from sklearn import metrics\n",
    "\n",
    "mett=metrics.classification_report(y_test,predictions)\n",
    "print (mett)\n",
    "\n",
    "cm = metrics.confusion_matrix(y_test, predictions)\n",
    "print(cm)\n",
    "\n",
    "\n",
    "roc_plot(m,x_test,y_test,predictions)"
   ]
  },
  {
   "cell_type": "code",
   "execution_count": 24,
   "metadata": {},
   "outputs": [
    {
     "data": {
      "text/plain": [
       "DecisionTreeClassifier(class_weight=None, criterion='gini', max_depth=5,\n",
       "            max_features=35, max_leaf_nodes=None,\n",
       "            min_impurity_decrease=0.0, min_impurity_split=None,\n",
       "            min_samples_leaf=1, min_samples_split=2,\n",
       "            min_weight_fraction_leaf=0.0, presort=False, random_state=None,\n",
       "            splitter='best')"
      ]
     },
     "execution_count": 24,
     "metadata": {},
     "output_type": "execute_result"
    }
   ],
   "source": [
    "m\n"
   ]
  },
  {
   "cell_type": "code",
   "execution_count": null,
   "metadata": {},
   "outputs": [],
   "source": []
  }
 ],
 "metadata": {
  "kernelspec": {
   "display_name": "Python 2",
   "language": "python",
   "name": "python2"
  },
  "language_info": {
   "codemirror_mode": {
    "name": "ipython",
    "version": 2
   },
   "file_extension": ".py",
   "mimetype": "text/x-python",
   "name": "python",
   "nbconvert_exporter": "python",
   "pygments_lexer": "ipython2",
   "version": "2.7.16"
  }
 },
 "nbformat": 4,
 "nbformat_minor": 2
}
