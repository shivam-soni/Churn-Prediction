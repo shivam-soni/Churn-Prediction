{
 "cells": [
  {
   "cell_type": "code",
   "execution_count": 13,
   "metadata": {},
   "outputs": [],
   "source": [
    "import numpy as np\n",
    "import matplotlib.pyplot as pt\n",
    "import pandas as pd\n",
    "import statsmodels.stats.outliers_influence as oi\n",
    "from sklearn.metrics import roc_curve\n",
    "from sklearn.metrics import roc_auc_score\n",
    "from sklearn import metrics\n",
    "import warnings\n",
    "warnings.filterwarnings(\"ignore\")\n",
    "from sklearn.model_selection import StratifiedKFold\n",
    "from scipy import interp\n",
    "\n",
    "import matplotlib.patches as patches\n",
    "import matplotlib.pylab as plt\n",
    "from sklearn.preprocessing import LabelEncoder\n",
    "from sklearn.model_selection import train_test_split\n",
    "\n",
    "df=pd.read_csv('Churn.csv')\n"
   ]
  },
  {
   "cell_type": "code",
   "execution_count": 14,
   "metadata": {},
   "outputs": [],
   "source": [
    "\"\"\"----------------------------DATA PREPARATION--------------------------\"\"\"\n",
    "\n",
    "for i in df.columns:\n",
    "    df[i]=df[i].replace(\" \",np.NaN)\n",
    "    \n",
    "#print (df.isnull().sum())\n",
    "\n",
    "    \n",
    "df.dropna(inplace=True)\n",
    "df = df.reset_index()[df.columns]\n",
    "#print (df.isnull().sum())\n",
    "'''def tenure_lab(t) :\n",
    "    \n",
    "    if t <= 12 :\n",
    "        return 1\n",
    "    elif (t > 12) & (t <= 24 ):\n",
    "        return 2\n",
    "    elif (t > 24) & (t <= 48) :\n",
    "        return 3\n",
    "    elif (t > 48) & (t <= 60) :\n",
    "        return 4\n",
    "    elif t > 60 :\n",
    "        return 5\n",
    "\n",
    "df[\"tenure\"]=df[\"tenure\"].map(tenure_lab)'''\n",
    "\n",
    "\n",
    "#since we have 72 categories in tenure we will reduce the number of categories in it\n",
    "#therefoe we made above function and to check how many categories each column has now,we are using the following loop\n",
    "\n",
    "for c_n in df.columns:\n",
    "    #print c_n\n",
    "   # if X[c_n]=='object' :\n",
    "    unique_cat=df[c_n].nunique()\n",
    "    #print (\"Feature\", c_n,\"has\", unique_cat,\"unique categories\")\n",
    "\n",
    "\n",
    "X=df.drop('Churn',1)\n",
    "Y=df.Churn\n",
    "\n",
    "X=X.drop('customerID',1)\n",
    "\n",
    "todummy_list  =X.nunique()[X.nunique() < 6].keys().tolist()\n",
    "\n",
    "num_cols   = [x for x in X.columns if x not in todummy_list]\n",
    "'''todummy_list.remove('tenure')\n",
    "num_cols.insert(3,'tenure')'''\n",
    "X_org=X.copy()\n",
    "\n",
    "for i in todummy_list:\n",
    "    dummies= pd.get_dummies(X[i],prefix=i)\n",
    "    #print dummies\n",
    "    #dummies=dummies.iloc[:,1:]\n",
    "    X=X.drop(i,1)\n",
    "    X=pd.concat([dummies,X],axis=1)\n",
    "X=X.drop(['StreamingTV_No internet service','StreamingMovies_No internet service','TechSupport_No internet service','DeviceProtection_No internet service','OnlineBackup_No internet service'],axis=1)\n"
   ]
  },
  {
   "cell_type": "code",
   "execution_count": 15,
   "metadata": {},
   "outputs": [],
   "source": [
    "def roc_plot(clf_obj,x_test,y_test,predictions):\n",
    "    \n",
    "    # all parameters not specified are set to their defaults\n",
    "    fpr, tpr, thresholds = roc_curve(y_test, predictions)\n",
    "\n",
    "    #plot no skill\n",
    "    from matplotlib import pyplot\n",
    "    pyplot.plot([0, 1], [0, 1], linestyle='--')\n",
    "    # plot the roc curve for the model\n",
    "    pyplot.plot(fpr, tpr, marker='.')\n",
    "    # show the plot\n",
    "    pyplot.show()\n",
    "\n",
    "    auc = roc_auc_score(y_test, predictions)\n",
    "    print('AUC: %.3f' % auc)\n",
    "    \n",
    "    import seaborn as sns\n",
    "        \n",
    "    cm = metrics.confusion_matrix(y_test, predictions)\n",
    "    score = clf_obj.score(x_test, y_test)\n",
    "    plt.figure(figsize=(9,9))\n",
    "    sns.heatmap(cm, annot=True, fmt=\".3f\", linewidths=.5, square = True, cmap = 'Blues_r');\n",
    "    plt.ylabel('Actual label');\n",
    "    plt.xlabel('Predicted label');\n",
    "    all_sample_title =' Accuracy Score: {0}'.format(score)\n",
    "    plt.title(all_sample_title, size = 15);"
   ]
  },
  {
   "cell_type": "code",
   "execution_count": 16,
   "metadata": {},
   "outputs": [],
   "source": [
    "le = LabelEncoder()\n",
    "Y= le.fit_transform(Y)\n",
    "x_train, x_test, y_train, y_test = train_test_split(X, Y, test_size=0.20, random_state=0)    \n",
    "from sklearn.preprocessing import StandardScaler\n",
    "# Fitting parameters for scaling x_train for the numerical columns \n",
    "std = StandardScaler().fit(x_train[num_cols])\n",
    "#Transforming the the original data\n",
    "x_train_transformed=std.transform(x_train[num_cols])\n",
    "x_train_transformed_df = pd.DataFrame(x_train_transformed,columns=num_cols)\n",
    "x_train=x_train.drop(num_cols,1)\n",
    "x_train=pd.concat([x_train.reset_index(drop=True),x_train_transformed_df.reset_index(drop=True) ],axis=1)\n",
    "\n",
    "#Transforming the the test data's numerical with x_train scaled parameters\n",
    "x_test_transformed=std.transform(x_test[num_cols])\n",
    "x_test_transformed_df = pd.DataFrame(x_test_transformed,columns=num_cols)\n",
    "x_test=x_test.drop(num_cols,1)\n",
    "x_test=pd.concat([x_test.reset_index(drop=True),x_test_transformed_df .reset_index(drop=True) ],axis=1)\n"
   ]
  },
  {
   "cell_type": "code",
   "execution_count": 31,
   "metadata": {
    "scrolled": false
   },
   "outputs": [
    {
     "name": "stdout",
     "output_type": "stream",
     "text": [
      "1) 0.836 (+/-0.014) for {'colsample_bytree': 0.6, 'gamma': 0, 'learning_rate': 0.01, 'max_depth': 1, 'min_child_weight': 1, 'n_estimators': 140, 'reg_alpha': 0.001, 'subsample': 0.25}\n",
      "2) 0.838 (+/-0.016) for {'colsample_bytree': 0.6, 'gamma': 0, 'learning_rate': 0.01, 'max_depth': 1, 'min_child_weight': 1, 'n_estimators': 200, 'reg_alpha': 0.001, 'subsample': 0.25}\n",
      "3) 0.845 (+/-0.015) for {'colsample_bytree': 0.6, 'gamma': 0, 'learning_rate': 0.01, 'max_depth': 1, 'min_child_weight': 1, 'n_estimators': 500, 'reg_alpha': 0.001, 'subsample': 0.25}\n",
      "4) 0.850 (+/-0.015) for {'colsample_bytree': 0.6, 'gamma': 0, 'learning_rate': 0.01, 'max_depth': 1, 'min_child_weight': 1, 'n_estimators': 1000, 'reg_alpha': 0.001, 'subsample': 0.25}\n",
      "5) 0.851 (+/-0.014) for {'colsample_bytree': 0.6, 'gamma': 0, 'learning_rate': 0.01, 'max_depth': 1, 'min_child_weight': 1, 'n_estimators': 1500, 'reg_alpha': 0.001, 'subsample': 0.25}\n",
      "6) 0.852 (+/-0.014) for {'colsample_bytree': 0.6, 'gamma': 0, 'learning_rate': 0.01, 'max_depth': 1, 'min_child_weight': 1, 'n_estimators': 2000, 'reg_alpha': 0.001, 'subsample': 0.25}\n",
      "7) 0.851 (+/-0.014) for {'colsample_bytree': 0.6, 'gamma': 0, 'learning_rate': 0.01, 'max_depth': 1, 'min_child_weight': 1, 'n_estimators': 2500, 'reg_alpha': 0.001, 'subsample': 0.25}\n",
      "Best score: 0.8515\n",
      "Best parameters:\n",
      " {'colsample_bytree': 0.6, 'gamma': 0, 'learning_rate': 0.01, 'max_depth': 1, 'min_child_weight': 1, 'n_estimators': 2000, 'reg_alpha': 0.001, 'subsample': 0.25}\n",
      "Best estimator:\n",
      " XGBClassifier(base_score=0.5, booster='gbtree', colsample_bylevel=1,\n",
      "       colsample_bytree=0.6, gamma=0, learning_rate=0.01, max_delta_step=0,\n",
      "       max_depth=1, min_child_weight=1, missing=None, n_estimators=2000,\n",
      "       n_jobs=1, nthread=None, objective='binary:logistic', random_state=0,\n",
      "       reg_alpha=0.001, reg_lambda=1, scale_pos_weight=1, seed=None,\n",
      "       silent=True, subsample=0.25)\n"
     ]
    }
   ],
   "source": [
    "from sklearn.model_selection import GridSearchCV\n",
    "\n",
    "\n",
    "from xgboost.sklearn import XGBClassifier\n",
    "\n",
    "xgb1 = XGBClassifier()\n",
    "gs = GridSearchCV(xgb1,param_grid={'learning_rate':[0.01],'n_estimators':[140,200,500,1000,1500,2000,2500],'max_depth':[1],'min_child_weight':[1],'gamma':[0],'subsample':[0.25],'colsample_bytree':[0.6],'reg_alpha':[1e-3]},scoring='roc_auc')\n",
    "\n",
    "\n",
    "gs.fit(x_train,y_train)\n",
    "\n",
    "\n",
    "means = gs.cv_results_['mean_test_score']\n",
    "stds = gs.cv_results_['std_test_score']\n",
    "c=0\n",
    "for mean, std, params in zip(means, stds, gs.cv_results_['params']):\n",
    "    c=c+1\n",
    "    print(\"%d) %0.3f (+/-%0.03f) for %r\"% (c,mean, std * 2, params))\n",
    "\n",
    "print(\"Best score: %0.4f\" % gs.best_score_)\n",
    "\n",
    "print(\"Best parameters:\\n\",gs.best_params_)\n",
    "\n",
    "\n",
    "print(\"Best estimator:\\n\",gs.best_estimator_)\n"
   ]
  },
  {
   "cell_type": "code",
   "execution_count": 28,
   "metadata": {},
   "outputs": [
    {
     "data": {
      "text/plain": [
       "GridSearchCV(cv='warn', error_score='raise-deprecating',\n",
       "       estimator=XGBClassifier(base_score=0.5, booster='gbtree', colsample_bylevel=1,\n",
       "       colsample_bytree=1, gamma=0, learning_rate=0.1, max_delta_step=0,\n",
       "       max_depth=3, min_child_weight=1, missing=None, n_estimators=100,\n",
       "       n_jobs=1, nthread=None, objective='binary:logistic', random_state=0,\n",
       "       reg_alpha=0, reg_lambda=1, scale_pos_weight=1, seed=None,\n",
       "       silent=True, subsample=1),\n",
       "       fit_params=None, iid='warn', n_jobs=None,\n",
       "       param_grid={'learning_rate': [0.1], 'n_estimators': [140], 'max_depth': [1], 'min_child_weight': [1], 'gamma': [0], 'subsample': [0.25], 'colsample_bytree': [0.6], 'reg_alpha': [0, 0.001, 0.005, 0.008, 0.1, 1]},\n",
       "       pre_dispatch='2*n_jobs', refit=True, return_train_score='warn',\n",
       "       scoring='roc_auc', verbose=0)"
      ]
     },
     "execution_count": 28,
     "metadata": {},
     "output_type": "execute_result"
    }
   ],
   "source": [
    "gs.fit(x_train,y_train)"
   ]
  },
  {
   "cell_type": "code",
   "execution_count": 29,
   "metadata": {
    "scrolled": false
   },
   "outputs": [
    {
     "name": "stdout",
     "output_type": "stream",
     "text": [
      "1) 0.851 (+/-0.015) for {'colsample_bytree': 0.6, 'gamma': 0, 'learning_rate': 0.1, 'max_depth': 1, 'min_child_weight': 1, 'n_estimators': 140, 'reg_alpha': 0, 'subsample': 0.25}\n",
      "2) 0.851 (+/-0.015) for {'colsample_bytree': 0.6, 'gamma': 0, 'learning_rate': 0.1, 'max_depth': 1, 'min_child_weight': 1, 'n_estimators': 140, 'reg_alpha': 0.001, 'subsample': 0.25}\n",
      "3) 0.851 (+/-0.015) for {'colsample_bytree': 0.6, 'gamma': 0, 'learning_rate': 0.1, 'max_depth': 1, 'min_child_weight': 1, 'n_estimators': 140, 'reg_alpha': 0.005, 'subsample': 0.25}\n",
      "4) 0.851 (+/-0.015) for {'colsample_bytree': 0.6, 'gamma': 0, 'learning_rate': 0.1, 'max_depth': 1, 'min_child_weight': 1, 'n_estimators': 140, 'reg_alpha': 0.008, 'subsample': 0.25}\n",
      "5) 0.851 (+/-0.015) for {'colsample_bytree': 0.6, 'gamma': 0, 'learning_rate': 0.1, 'max_depth': 1, 'min_child_weight': 1, 'n_estimators': 140, 'reg_alpha': 0.1, 'subsample': 0.25}\n",
      "6) 0.851 (+/-0.015) for {'colsample_bytree': 0.6, 'gamma': 0, 'learning_rate': 0.1, 'max_depth': 1, 'min_child_weight': 1, 'n_estimators': 140, 'reg_alpha': 1, 'subsample': 0.25}\n",
      "Best score: 0.8515\n",
      "Best parameters:\n",
      " {'colsample_bytree': 0.6, 'gamma': 0, 'learning_rate': 0.1, 'max_depth': 1, 'min_child_weight': 1, 'n_estimators': 140, 'reg_alpha': 0.001, 'subsample': 0.25}\n",
      "Best estimator:\n",
      " XGBClassifier(base_score=0.5, booster='gbtree', colsample_bylevel=1,\n",
      "       colsample_bytree=0.6, gamma=0, learning_rate=0.1, max_delta_step=0,\n",
      "       max_depth=1, min_child_weight=1, missing=None, n_estimators=140,\n",
      "       n_jobs=1, nthread=None, objective='binary:logistic', random_state=0,\n",
      "       reg_alpha=0.001, reg_lambda=1, scale_pos_weight=1, seed=None,\n",
      "       silent=True, subsample=0.25)\n"
     ]
    },
    {
     "data": {
      "image/png": "[encoded data removed]",
      "text/plain": [
       "<Figure size 432x288 with 1 Axes>"
      ]
     },
     "metadata": {},
     "output_type": "display_data"
    },
    {
     "name": "stdout",
     "output_type": "stream",
     "text": [
      "AUC: 0.722\n"
     ]
    },
    {
     "data": {
      "image/png": "[encoded data removed]",
      "text/plain": [
       "<Figure size 648x648 with 2 Axes>"
      ]
     },
     "metadata": {},
     "output_type": "display_data"
    }
   ],
   "source": [
    "\n",
    "\n",
    "\n",
    "means = gs.cv_results_['mean_test_score']\n",
    "stds = gs.cv_results_['std_test_score']\n",
    "c=0\n",
    "for mean, std, params in zip(means, stds, gs.cv_results_['params']):\n",
    "    c=c+1\n",
    "    print(\"%d) %0.3f (+/-%0.03f) for %r\"% (c,mean, std * 2, params))\n",
    "\n",
    "print(\"Best score: %0.4f\" % gs.best_score_)\n",
    "\n",
    "print(\"Best parameters:\\n\",gs.best_params_)\n",
    "\n",
    "\n",
    "print(\"Best estimator:\\n\",gs.best_estimator_)\n",
    "\n",
    "\n",
    "\n",
    "rf=gs.best_estimator_\n",
    "\n",
    "model= rf.fit(x_train,y_train)\n",
    "\n",
    "\n",
    "pred=model.predict(x_test)\n",
    "\n",
    "roc_plot(model,x_test,y_test,pred)"
   ]
  },
  {
   "cell_type": "code",
   "execution_count": null,
   "metadata": {},
   "outputs": [],
   "source": []
  }
 ],
 "metadata": {
  "kernelspec": {
   "display_name": "Python 3",
   "language": "python",
   "name": "python3"
  },
  "language_info": {
   "codemirror_mode": {
    "name": "ipython",
    "version": 3
   },
   "file_extension": ".py",
   "mimetype": "text/x-python",
   "name": "python",
   "nbconvert_exporter": "python",
   "pygments_lexer": "ipython3",
   "version": "3.6.5"
  }
 },
 "nbformat": 4,
 "nbformat_minor": 2
}
