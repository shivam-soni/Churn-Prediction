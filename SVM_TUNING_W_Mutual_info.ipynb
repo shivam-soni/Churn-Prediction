{
 "cells": [
  {
   "cell_type": "code",
   "execution_count": 1,
   "metadata": {},
   "outputs": [],
   "source": [
    "import numpy as np\n",
    "import matplotlib.pyplot as pt\n",
    "import pandas as pd\n",
    "import statsmodels.stats.outliers_influence as oi\n",
    "from sklearn.metrics import roc_curve\n",
    "from sklearn.metrics import roc_auc_score\n",
    "import warnings\n",
    "warnings.filterwarnings(\"ignore\")\n",
    "from sklearn.model_selection import train_test_split\n",
    "\n",
    "df=pd.read_csv('Churn.csv')\n",
    "\n",
    "\"\"\"----------------------------DATA PREPARATION--------------------------\"\"\"\n",
    "\n",
    "for i in df.columns:\n",
    "    df[i]=df[i].replace(\" \",np.NaN)\n",
    "    \n",
    "#print (df.isnull().sum())\n",
    "\n",
    "    \n",
    "df.dropna(inplace=True)\n",
    "df = df.reset_index()[df.columns]\n",
    "#print (df.isnull().sum())\n",
    "'''def tenure_lab(t) :\n",
    "    \n",
    "    if t <= 12 :\n",
    "        return 1\n",
    "    elif (t > 12) & (t <= 24 ):\n",
    "        return 2\n",
    "    elif (t > 24) & (t <= 48) :\n",
    "        return 3\n",
    "    elif (t > 48) & (t <= 60) :\n",
    "        return 4\n",
    "    elif t > 60 :\n",
    "        return 5\n",
    "\n",
    "df[\"tenure\"]=df[\"tenure\"].map(tenure_lab)'''\n",
    "\n",
    "\n",
    "#since we have 72 categories in tenure we will reduce the number of categories in it\n",
    "#therefoe we made above function and to check how many categories each column has now,we are using the following loop\n",
    "\n",
    "for c_n in df.columns:\n",
    "    #print c_n\n",
    "   # if X[c_n]=='object' :\n",
    "    unique_cat=df[c_n].nunique()\n",
    "    #print (\"Feature\", c_n,\"has\", unique_cat,\"unique categories\")\n",
    "\n",
    "\n",
    "X=df.drop('Churn',1)\n",
    "Y=df.Churn\n",
    "\n",
    "X=X.drop('customerID',1)\n",
    "\n",
    "todummy_list  =X.nunique()[X.nunique() < 6].keys().tolist()\n",
    "\n",
    "num_cols   = [x for x in X.columns if x not in todummy_list]\n",
    "'''todummy_list.remove('tenure')\n",
    "num_cols.insert(3,'tenure')'''\n",
    "X_org=X.copy()\n",
    "\n",
    "for i in todummy_list:\n",
    "    dummies= pd.get_dummies(X[i],prefix=i)\n",
    "    #print dummies\n",
    "    #dummies=dummies.iloc[:,1:]\n",
    "    X=X.drop(i,1)\n",
    "    X=pd.concat([dummies,X],axis=1)\n",
    "X=X.drop(['StreamingTV_No internet service','StreamingMovies_No internet service','TechSupport_No internet service','DeviceProtection_No internet service','OnlineBackup_No internet service'],axis=1)\n",
    "    \n",
    "from sklearn.preprocessing import LabelEncoder\n",
    "from sklearn.preprocessing import StandardScaler\n",
    "\n",
    "from sklearn import preprocessing\n",
    "\n",
    "normalized_X = preprocessing.normalize(X[num_cols])\n",
    "normalized_X = pd.DataFrame(normalized_X,columns=num_cols)\n",
    "X=X.drop(num_cols,1)\n",
    "X=pd.concat([X,normalized_X ],axis=1)\n",
    "\n",
    "le = LabelEncoder()\n",
    "Y= le.fit_transform(Y)\n",
    "x_train, x_test, y_train, y_test = train_test_split(X, Y, test_size=0.20, random_state=0)\n",
    "\n"
   ]
  },
  {
   "cell_type": "code",
   "execution_count": 2,
   "metadata": {},
   "outputs": [
    {
     "name": "stdout",
     "output_type": "stream",
     "text": [
      "(5625, 41)\n",
      "Index(['PaymentMethod_Bank transfer (automatic)',\n",
      "       'PaymentMethod_Credit card (automatic)',\n",
      "       'PaymentMethod_Electronic check', 'PaymentMethod_Mailed check',\n",
      "       'PaperlessBilling_No', 'PaperlessBilling_Yes',\n",
      "       'Contract_Month-to-month', 'Contract_One year', 'Contract_Two year',\n",
      "       'StreamingMovies_No', 'StreamingMovies_Yes', 'StreamingTV_No',\n",
      "       'StreamingTV_Yes', 'TechSupport_No', 'TechSupport_Yes',\n",
      "       'DeviceProtection_No', 'DeviceProtection_Yes', 'OnlineBackup_No',\n",
      "       'OnlineBackup_Yes', 'OnlineSecurity_No',\n",
      "       'OnlineSecurity_No internet service', 'OnlineSecurity_Yes',\n",
      "       'InternetService_DSL', 'InternetService_Fiber optic',\n",
      "       'InternetService_No', 'MultipleLines_No',\n",
      "       'MultipleLines_No phone service', 'MultipleLines_Yes',\n",
      "       'PhoneService_No', 'PhoneService_Yes', 'Dependents_No',\n",
      "       'Dependents_Yes', 'Partner_No', 'Partner_Yes', 'SeniorCitizen_0',\n",
      "       'SeniorCitizen_1', 'gender_Female', 'gender_Male', 'tenure',\n",
      "       'MonthlyCharges', 'TotalCharges'],\n",
      "      dtype='object')\n"
     ]
    }
   ],
   "source": [
    "print(x_train.shape)\n",
    "print(x_train.columns)"
   ]
  },
  {
   "cell_type": "code",
   "execution_count": 10,
   "metadata": {},
   "outputs": [
    {
     "name": "stdout",
     "output_type": "stream",
     "text": [
      "(5625, 13)\n",
      "(1407, 13)\n"
     ]
    }
   ],
   "source": [
    "'''-------------------------FEATURE SELECTION(chi2)-------------------------------'''\n",
    "from sklearn.feature_selection import SelectKBest\n",
    "from sklearn.feature_selection import chi2\n",
    "from sklearn.feature_selection import f_classif\n",
    "from sklearn.feature_selection import SelectFwe\n",
    "from sklearn.feature_selection import mutual_info_classif\n",
    "test = SelectKBest(f_classif, k=13)\n",
    "fit=test.fit(x_train,y_train)\n",
    "indices_selected= fit.get_support(indices=True)\n",
    "columns_selected= [X.columns[i] for i in indices_selected]\n",
    "x_train_selected=x_train[columns_selected]\n",
    "x_test_selected=x_test[columns_selected]\n",
    "\n",
    "print(x_train_selected.shape)\n",
    "print(x_test_selected.shape)\n"
   ]
  },
  {
   "cell_type": "code",
   "execution_count": 11,
   "metadata": {},
   "outputs": [
    {
     "data": {
      "text/plain": [
       "array([ 2,  6,  8, 13, 15, 17, 19, 20, 23, 24, 38, 39, 40], dtype=int64)"
      ]
     },
     "execution_count": 11,
     "metadata": {},
     "output_type": "execute_result"
    }
   ],
   "source": [
    "indices_selected"
   ]
  },
  {
   "cell_type": "code",
   "execution_count": 12,
   "metadata": {},
   "outputs": [],
   "source": [
    "def roc_plot(clf_obj,x_test,y_test,predictions):\n",
    "    \n",
    "    # all parameters not specified are set to their defaults\n",
    "    \n",
    "   \n",
    "        \n",
    "        \n",
    "        \n",
    "    \n",
    " \n",
    "    fpr, tpr, thresholds = roc_curve(y_test, predictions)\n",
    "    \n",
    "    print(\"tpr=\",tpr,\" and 1-fpr=\", 1-fpr)\n",
    "\n",
    "    #plot no skill\n",
    "    from matplotlib import pyplot\n",
    "    pyplot.plot([0, 1], [0, 1], linestyle='--')\n",
    "    # plot the roc curve for the model\n",
    "    pyplot.plot(fpr, tpr, marker='.')\n",
    "    # show the plot\n",
    "    pyplot.show()\n",
    "\n",
    "    auc = roc_auc_score(y_test, predictions)\n",
    "    print('AUC: %.3f' % auc)\n",
    "    '''probs = m.predict_proba(x_test)\n",
    "    probs = probs[:, 1]\n",
    "\n",
    "\n",
    "    fpr1, tpr1, thresholds1 = roc_curve(y_test, probs)\n",
    "\n",
    "    #plot no skill\n",
    "    pyplot.plot([0, 1], [0, 1], linestyle='--')\n",
    "    # plot the roc curve for the model\n",
    "    pyplot.plot(fpr1, tpr1, marker='.')\n",
    "    # show the plot\n",
    "    pyplot.show()\n",
    "\n",
    "    auc = roc_auc_score(y_test, probs)\n",
    "    print('AUC: %.3f' % auc)'''\n",
    "\n",
    "\n",
    "    import matplotlib.pyplot as plt\n",
    "    import seaborn as sns\n",
    "\n",
    "    score = clf_obj.score(x_test, y_test)\n",
    "    plt.figure(figsize=(9,9))\n",
    "    sns.heatmap(cm, annot=True, fmt=\".3f\", linewidths=.5, square = True, cmap = 'Blues_r');\n",
    "    plt.ylabel('Actual label');\n",
    "    plt.xlabel('Predicted label');\n",
    "    all_sample_title =' Accuracy Score: {0}'.format(score)\n",
    "    plt.title(all_sample_title, size = 15);\n"
   ]
  },
  {
   "cell_type": "code",
   "execution_count": 13,
   "metadata": {},
   "outputs": [
    {
     "data": {
      "text/plain": [
       "GridSearchCV(cv='warn', error_score='raise-deprecating',\n",
       "       estimator=SVC(C=1.0, cache_size=200, class_weight=None, coef0=0.0,\n",
       "  decision_function_shape='ovr', degree=3, gamma='auto_deprecated',\n",
       "  kernel='rbf', max_iter=-1, probability=True, random_state=None,\n",
       "  shrinking=True, tol=0.001, verbose=False),\n",
       "       fit_params=None, iid='warn', n_jobs=None,\n",
       "       param_grid={'kernel': ['linear', 'poly', 'rbf', 'sigmoid'], 'C': array([1., 2., 3., 4.]), 'gamma': [0.04, 0.05, 0.06]},\n",
       "       pre_dispatch='2*n_jobs', refit=True, return_train_score='warn',\n",
       "       scoring='roc_auc', verbose=0)"
      ]
     },
     "execution_count": 13,
     "metadata": {},
     "output_type": "execute_result"
    }
   ],
   "source": [
    "from sklearn.model_selection import GridSearchCV\n",
    "\n",
    "from sklearn.svm import SVC\n",
    "SVM=SVC(probability=True)\n",
    "\n",
    "gs = GridSearchCV(SVM, param_grid={'kernel': ['linear', 'poly', 'rbf', 'sigmoid'],'C': 0.0 ++ np.arange(1, 5),'gamma':[0.04,0.05,0.06]},scoring='roc_auc')\n",
    "gs.fit(x_train,y_train)"
   ]
  },
  {
   "cell_type": "code",
   "execution_count": 7,
   "metadata": {
    "scrolled": false
   },
   "outputs": [
    {
     "name": "stdout",
     "output_type": "stream",
     "text": [
      "1) 0.843 (+/-0.016) for {'C': 1.0, 'gamma': 0.04, 'kernel': 'linear'}\n",
      "2) 0.805 (+/-0.023) for {'C': 1.0, 'gamma': 0.04, 'kernel': 'poly'}\n",
      "3) 0.823 (+/-0.017) for {'C': 1.0, 'gamma': 0.04, 'kernel': 'rbf'}\n",
      "4) 0.836 (+/-0.020) for {'C': 1.0, 'gamma': 0.04, 'kernel': 'sigmoid'}\n",
      "5) 0.843 (+/-0.016) for {'C': 1.0, 'gamma': 0.05, 'kernel': 'linear'}\n",
      "6) 0.801 (+/-0.020) for {'C': 1.0, 'gamma': 0.05, 'kernel': 'poly'}\n",
      "7) 0.818 (+/-0.019) for {'C': 1.0, 'gamma': 0.05, 'kernel': 'rbf'}\n",
      "8) 0.806 (+/-0.021) for {'C': 1.0, 'gamma': 0.05, 'kernel': 'sigmoid'}\n",
      "9) 0.843 (+/-0.016) for {'C': 1.0, 'gamma': 0.06, 'kernel': 'linear'}\n",
      "10) 0.800 (+/-0.017) for {'C': 1.0, 'gamma': 0.06, 'kernel': 'poly'}\n",
      "11) 0.812 (+/-0.019) for {'C': 1.0, 'gamma': 0.06, 'kernel': 'rbf'}\n",
      "12) 0.782 (+/-0.020) for {'C': 1.0, 'gamma': 0.06, 'kernel': 'sigmoid'}\n",
      "13) 0.843 (+/-0.015) for {'C': 2.0, 'gamma': 0.04, 'kernel': 'linear'}\n",
      "14) 0.801 (+/-0.019) for {'C': 2.0, 'gamma': 0.04, 'kernel': 'poly'}\n",
      "15) 0.816 (+/-0.016) for {'C': 2.0, 'gamma': 0.04, 'kernel': 'rbf'}\n",
      "16) 0.804 (+/-0.019) for {'C': 2.0, 'gamma': 0.04, 'kernel': 'sigmoid'}\n",
      "17) 0.843 (+/-0.015) for {'C': 2.0, 'gamma': 0.05, 'kernel': 'linear'}\n",
      "18) 0.799 (+/-0.018) for {'C': 2.0, 'gamma': 0.05, 'kernel': 'poly'}\n",
      "19) 0.810 (+/-0.016) for {'C': 2.0, 'gamma': 0.05, 'kernel': 'rbf'}\n",
      "20) 0.786 (+/-0.019) for {'C': 2.0, 'gamma': 0.05, 'kernel': 'sigmoid'}\n",
      "21) 0.843 (+/-0.015) for {'C': 2.0, 'gamma': 0.06, 'kernel': 'linear'}\n",
      "22) 0.796 (+/-0.018) for {'C': 2.0, 'gamma': 0.06, 'kernel': 'poly'}\n",
      "23) 0.806 (+/-0.019) for {'C': 2.0, 'gamma': 0.06, 'kernel': 'rbf'}\n",
      "24) 0.771 (+/-0.026) for {'C': 2.0, 'gamma': 0.06, 'kernel': 'sigmoid'}\n",
      "25) 0.843 (+/-0.014) for {'C': 3.0, 'gamma': 0.04, 'kernel': 'linear'}\n",
      "26) 0.800 (+/-0.017) for {'C': 3.0, 'gamma': 0.04, 'kernel': 'poly'}\n",
      "27) 0.811 (+/-0.016) for {'C': 3.0, 'gamma': 0.04, 'kernel': 'rbf'}\n",
      "28) 0.798 (+/-0.026) for {'C': 3.0, 'gamma': 0.04, 'kernel': 'sigmoid'}\n",
      "29) 0.843 (+/-0.014) for {'C': 3.0, 'gamma': 0.05, 'kernel': 'linear'}\n",
      "30) 0.797 (+/-0.018) for {'C': 3.0, 'gamma': 0.05, 'kernel': 'poly'}\n",
      "31) 0.806 (+/-0.017) for {'C': 3.0, 'gamma': 0.05, 'kernel': 'rbf'}\n",
      "32) 0.775 (+/-0.034) for {'C': 3.0, 'gamma': 0.05, 'kernel': 'sigmoid'}\n",
      "33) 0.843 (+/-0.014) for {'C': 3.0, 'gamma': 0.06, 'kernel': 'linear'}\n",
      "34) 0.794 (+/-0.020) for {'C': 3.0, 'gamma': 0.06, 'kernel': 'poly'}\n",
      "35) 0.803 (+/-0.018) for {'C': 3.0, 'gamma': 0.06, 'kernel': 'rbf'}\n",
      "36) 0.759 (+/-0.020) for {'C': 3.0, 'gamma': 0.06, 'kernel': 'sigmoid'}\n",
      "37) 0.843 (+/-0.014) for {'C': 4.0, 'gamma': 0.04, 'kernel': 'linear'}\n",
      "38) 0.799 (+/-0.018) for {'C': 4.0, 'gamma': 0.04, 'kernel': 'poly'}\n",
      "39) 0.808 (+/-0.016) for {'C': 4.0, 'gamma': 0.04, 'kernel': 'rbf'}\n",
      "40) 0.785 (+/-0.036) for {'C': 4.0, 'gamma': 0.04, 'kernel': 'sigmoid'}\n",
      "41) 0.843 (+/-0.014) for {'C': 4.0, 'gamma': 0.05, 'kernel': 'linear'}\n",
      "42) 0.795 (+/-0.019) for {'C': 4.0, 'gamma': 0.05, 'kernel': 'poly'}\n",
      "43) 0.804 (+/-0.016) for {'C': 4.0, 'gamma': 0.05, 'kernel': 'rbf'}\n",
      "44) 0.767 (+/-0.014) for {'C': 4.0, 'gamma': 0.05, 'kernel': 'sigmoid'}\n",
      "45) 0.843 (+/-0.014) for {'C': 4.0, 'gamma': 0.06, 'kernel': 'linear'}\n",
      "46) 0.792 (+/-0.022) for {'C': 4.0, 'gamma': 0.06, 'kernel': 'poly'}\n",
      "47) 0.800 (+/-0.019) for {'C': 4.0, 'gamma': 0.06, 'kernel': 'rbf'}\n",
      "48) 0.763 (+/-0.028) for {'C': 4.0, 'gamma': 0.06, 'kernel': 'sigmoid'}\n",
      "Best score: 0.8431\n",
      "Best parameters:\n",
      " {'C': 2.0, 'gamma': 0.04, 'kernel': 'linear'}\n",
      "Best estimator:\n",
      " SVC(C=2.0, cache_size=200, class_weight=None, coef0=0.0,\n",
      "  decision_function_shape='ovr', degree=3, gamma=0.04, kernel='linear',\n",
      "  max_iter=-1, probability=True, random_state=None, shrinking=True,\n",
      "  tol=0.001, verbose=False)\n"
     ]
    }
   ],
   "source": [
    "means = gs.cv_results_['mean_test_score']\n",
    "stds = gs.cv_results_['std_test_score']\n",
    "c=0\n",
    "for mean, std, params in zip(means, stds, gs.cv_results_['params']):\n",
    "    c=c+1\n",
    "    print(\"%d) %0.3f (+/-%0.03f) for %r\"% (c,mean, std * 2, params))\n",
    "\n",
    "print(\"Best score: %0.4f\" % gs.best_score_)\n",
    "\n",
    "print(\"Best parameters:\\n\",gs.best_params_)\n",
    "\n",
    "\n",
    "print(\"Best estimator:\\n\",gs.best_estimator_)"
   ]
  },
  {
   "cell_type": "code",
   "execution_count": 8,
   "metadata": {},
   "outputs": [
    {
     "name": "stdout",
     "output_type": "stream",
     "text": [
      "SVC(C=2.0, cache_size=200, class_weight=None, coef0=0.0,\n",
      "  decision_function_shape='ovr', degree=3, gamma=0.04, kernel='linear',\n",
      "  max_iter=-1, probability=True, random_state=None, shrinking=True,\n",
      "  tol=0.001, verbose=False)\n"
     ]
    }
   ],
   "source": [
    "m=gs.best_estimator_\n",
    "print (m)"
   ]
  },
  {
   "cell_type": "code",
   "execution_count": 9,
   "metadata": {},
   "outputs": [
    {
     "name": "stdout",
     "output_type": "stream",
     "text": [
      "              precision    recall  f1-score   support\n",
      "\n",
      "           0       0.82      0.93      0.87      1038\n",
      "           1       0.68      0.41      0.51       369\n",
      "\n",
      "   micro avg       0.79      0.79      0.79      1407\n",
      "   macro avg       0.75      0.67      0.69      1407\n",
      "weighted avg       0.78      0.79      0.78      1407\n",
      "\n",
      "[[965  73]\n",
      " [217 152]]\n",
      "tpr= [0.         0.41192412 1.        ]  and 1-fpr= [1.         0.92967245 0.        ]\n"
     ]
    },
    {
     "data": {
      "image/png": "[encoded data removed]",
      "text/plain": [
       "<Figure size 432x288 with 1 Axes>"
      ]
     },
     "metadata": {},
     "output_type": "display_data"
    },
    {
     "name": "stdout",
     "output_type": "stream",
     "text": [
      "AUC: 0.671\n"
     ]
    },
    {
     "data": {
      "image/png": "[encoded data removed]",
      "text/plain": [
       "<Figure size 648x648 with 2 Axes>"
      ]
     },
     "metadata": {},
     "output_type": "display_data"
    }
   ],
   "source": [
    "model=m.fit(x_train, y_train)\n",
    "predictions = model.predict(x_test)\n",
    "from sklearn import metrics\n",
    "mett=metrics.classification_report(y_test,predictions)\n",
    "print (mett)\n",
    "\n",
    "cm = metrics.confusion_matrix(y_test, predictions)\n",
    "print(cm)\n",
    "\n",
    "\n",
    "roc_plot(m,x_test,y_test,predictions)"
   ]
  },
  {
   "cell_type": "code",
   "execution_count": 12,
   "metadata": {},
   "outputs": [
    {
     "data": {
      "text/plain": [
       "SVC(C=2.0, cache_size=200, class_weight=None, coef0=0.0,\n",
       "  decision_function_shape='ovr', degree=3, gamma='auto', kernel='linear',\n",
       "  max_iter=-1, probability=True, random_state=None, shrinking=True,\n",
       "  tol=0.001, verbose=False)"
      ]
     },
     "execution_count": 12,
     "metadata": {},
     "output_type": "execute_result"
    }
   ],
   "source": [
    "m\n"
   ]
  },
  {
   "cell_type": "code",
   "execution_count": null,
   "metadata": {},
   "outputs": [],
   "source": []
  }
 ],
 "metadata": {
  "kernelspec": {
   "display_name": "Python 3",
   "language": "python",
   "name": "python3"
  },
  "language_info": {
   "codemirror_mode": {
    "name": "ipython",
    "version": 3
   },
   "file_extension": ".py",
   "mimetype": "text/x-python",
   "name": "python",
   "nbconvert_exporter": "python",
   "pygments_lexer": "ipython3",
   "version": "3.6.5"
  }
 },
 "nbformat": 4,
 "nbformat_minor": 2
}
